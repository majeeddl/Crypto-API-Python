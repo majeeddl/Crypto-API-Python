{
 "cells": [
  {
   "cell_type": "code",
   "execution_count": null,
   "metadata": {},
   "outputs": [],
   "source": [
    "import ccxt\n",
    "import os\n",
    "import json\n"
   ]
  },
  {
   "cell_type": "code",
   "execution_count": null,
   "metadata": {},
   "outputs": [],
   "source": [
    "#get exchange api key and secret from env file\n",
    "API_KEY = os.environ.get('BYBIT_API')\n",
    "SECRET = os.environ.get('BYBIT_SECRET')\n",
    "print(API_KEY,SECRET)\n",
    "\n"
   ]
  },
  {
   "cell_type": "code",
   "execution_count": null,
   "metadata": {},
   "outputs": [],
   "source": [
    "# get exchange\n",
    "exchange = ccxt.bybit({\n",
    "    'apiKey': API_KEY,\n",
    "    'secret' : SECRET,\n",
    "    'enableRateLimit' : True,\n",
    "    'options' : {\n",
    "        'defaultType' : 'features',\n",
    "        'adjustForTimeDifference': True\n",
    "    }\n",
    "})"
   ]
  },
  {
   "cell_type": "code",
   "execution_count": null,
   "metadata": {},
   "outputs": [],
   "source": [
    "#getOhlcv = exchange.fetch_ohlcv(symbol='BTC/USDT',limit=5)\n",
    "#print(getOhlcv)\n",
    "\n",
    "print(json.dumps(exchange.fetch_balance(),sort_keys=True, indent=4))\n"
   ]
  }
 ],
 "metadata": {
  "kernelspec": {
   "display_name": ".venv",
   "language": "python",
   "name": "python3"
  },
  "language_info": {
   "codemirror_mode": {
    "name": "ipython",
    "version": 3
   },
   "file_extension": ".py",
   "mimetype": "text/x-python",
   "name": "python",
   "nbconvert_exporter": "python",
   "pygments_lexer": "ipython3",
   "version": "3.9.13"
  },
  "orig_nbformat": 4,
  "vscode": {
   "interpreter": {
    "hash": "d6a0e7ae3e69ca1df066a5ce30573abe40c4b83ebfce3069d599ce26e49ea068"
   }
  }
 },
 "nbformat": 4,
 "nbformat_minor": 2
}
