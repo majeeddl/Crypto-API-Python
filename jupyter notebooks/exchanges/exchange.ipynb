{
 "cells": [
  {
   "cell_type": "code",
   "execution_count": 1,
   "metadata": {},
   "outputs": [],
   "source": [
    "import ccxt\n",
    "import os\n",
    "\n"
   ]
  },
  {
   "cell_type": "code",
   "execution_count": 2,
   "metadata": {},
   "outputs": [
    {
     "name": "stdout",
     "output_type": "stream",
     "text": [
      "bybitapi\n"
     ]
    }
   ],
   "source": [
    "#get exchange api key and secret from env file\n",
    "\n",
    "print(os.environ.get('BYBIT_API'))\n"
   ]
  },
  {
   "cell_type": "code",
   "execution_count": 3,
   "metadata": {},
   "outputs": [],
   "source": [
    "# get exchange\n",
    "bybit = ccxt.bybit({\n",
    "    'enableRateLimit' : True,\n",
    "    'options' : {\n",
    "        'defaultType' : 'spot',\n",
    "        'adjustForTimeDifference': True\n",
    "    }\n",
    "})"
   ]
  },
  {
   "cell_type": "code",
   "execution_count": 4,
   "metadata": {},
   "outputs": [
    {
     "name": "stdout",
     "output_type": "stream",
     "text": [
      "[[1673442000000, 17420.33, 17420.33, 17420.32, 17420.33, 1.21936], [1673442060000, 17420.33, 17421.93, 17420.32, 17421.55, 4.268889], [1673442120000, 17421.55, 17421.56, 17421.55, 17421.55, 0.413918], [1673442180000, 17421.55, 17421.56, 17421.55, 17421.55, 0.726329], [1673442240000, 17421.55, 17421.56, 17421.54, 17421.54, 0.882295]]\n"
     ]
    }
   ],
   "source": [
    "getOhlcv = bybit.fetch_ohlcv(symbol='BTC/USDT',limit=5)\n",
    "print(getOhlcv)"
   ]
  }
 ],
 "metadata": {
  "kernelspec": {
   "display_name": ".venv",
   "language": "python",
   "name": "python3"
  },
  "language_info": {
   "codemirror_mode": {
    "name": "ipython",
    "version": 3
   },
   "file_extension": ".py",
   "mimetype": "text/x-python",
   "name": "python",
   "nbconvert_exporter": "python",
   "pygments_lexer": "ipython3",
   "version": "3.9.13"
  },
  "orig_nbformat": 4,
  "vscode": {
   "interpreter": {
    "hash": "d6a0e7ae3e69ca1df066a5ce30573abe40c4b83ebfce3069d599ce26e49ea068"
   }
  }
 },
 "nbformat": 4,
 "nbformat_minor": 2
}
