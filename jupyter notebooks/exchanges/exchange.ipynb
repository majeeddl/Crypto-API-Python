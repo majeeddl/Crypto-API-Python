{
 "cells": [
  {
   "cell_type": "code",
   "execution_count": 2,
   "metadata": {},
   "outputs": [
    {
     "name": "stdout",
     "output_type": "stream",
     "text": [
      "bybitapi\n"
     ]
    }
   ],
   "source": [
    "import ccxt\n",
    "import os\n",
    "\n"
   ]
  },
  {
   "cell_type": "code",
   "execution_count": 13,
   "metadata": {},
   "outputs": [
    {
     "name": "stdout",
     "output_type": "stream",
     "text": [
      "None\n"
     ]
    }
   ],
   "source": [
    "#get exchange api key and secret from env file\n",
    "\n",
    "print(os.environ.get('BYBIT_API'))\n"
   ]
  },
  {
   "cell_type": "code",
   "execution_count": 4,
   "metadata": {},
   "outputs": [],
   "source": [
    "# get exchange\n",
    "bybit = ccxt.bybit({\n",
    "    'enableRateLimit' : True,\n",
    "    'options' : {\n",
    "        'defaultType' : 'spot',\n",
    "        'adjustForTimeDifference': True\n",
    "    }\n",
    "})"
   ]
  },
  {
   "cell_type": "code",
   "execution_count": 5,
   "metadata": {},
   "outputs": [
    {
     "name": "stdout",
     "output_type": "stream",
     "text": [
      "[[1673441220000, 17419.39, 17422.8, 17419.39, 17422.8, 1.456028], [1673441280000, 17422.8, 17422.81, 17422.8, 17422.81, 0.222163], [1673441340000, 17422.81, 17422.81, 17422.8, 17422.8, 0.260088], [1673441400000, 17422.8, 17422.81, 17421.7, 17421.72, 1.711101], [1673441460000, 17421.72, 17421.72, 17421.72, 17421.72, 0.0]]\n"
     ]
    }
   ],
   "source": [
    "getOhlcv = bybit.fetch_ohlcv(symbol='BTC/USDT',limit=5)\n",
    "print(getOhlcv)"
   ]
  }
 ],
 "metadata": {
  "kernelspec": {
   "display_name": ".venv",
   "language": "python",
   "name": "python3"
  },
  "language_info": {
   "codemirror_mode": {
    "name": "ipython",
    "version": 3
   },
   "file_extension": ".py",
   "mimetype": "text/x-python",
   "name": "python",
   "nbconvert_exporter": "python",
   "pygments_lexer": "ipython3",
   "version": "3.9.13"
  },
  "orig_nbformat": 4,
  "vscode": {
   "interpreter": {
    "hash": "d6a0e7ae3e69ca1df066a5ce30573abe40c4b83ebfce3069d599ce26e49ea068"
   }
  }
 },
 "nbformat": 4,
 "nbformat_minor": 2
}
