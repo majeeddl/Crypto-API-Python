{
 "cells": [
  {
   "cell_type": "code",
   "execution_count": null,
   "metadata": {},
   "outputs": [],
   "source": [
    "import pandas as pd\n",
    "import ccxt\n",
    "import os\n",
    "import json\n"
   ]
  },
  {
   "cell_type": "code",
   "execution_count": null,
   "metadata": {},
   "outputs": [],
   "source": [
    "#get exchange api key and secret from env file\n",
    "API_KEY = os.environ.get('BYBIT_API')\n",
    "SECRET = os.environ.get('BYBIT_SECRET')\n"
   ]
  },
  {
   "cell_type": "code",
   "execution_count": null,
   "metadata": {},
   "outputs": [],
   "source": [
    "# get exchange\n",
    "exchange = ccxt.bybit({\n",
    "    'apiKey': API_KEY,\n",
    "    'secret' : SECRET,\n",
    "    'enableRateLimit' : True,\n",
    "    'options' : {\n",
    "        'defaultType' : 'future',\n",
    "        'adjustForTimeDifference': True\n",
    "    },\n",
    "    'verbose': False,\n",
    "})\n"
   ]
  },
  {
   "cell_type": "code",
   "execution_count": null,
   "metadata": {},
   "outputs": [],
   "source": [
    "\n",
    "\n",
    "# exchange.set_position_mode(hedged=True)\n",
    "\n",
    "#data = exchange.fetchOHLCV(\"SPELL/USDT:USDT\", timeframe='1h', limit=2)\n",
    "\n",
    "params = {\n",
    "    'takeProfitPrice' : 0.00077\n",
    "}\n",
    "\n",
    "exchange.create_order(symbol=\"SPELL/USDT:USDT\",amount=100,type=\"Market\",side=\"sell\" ,params=params)\n",
    "\n",
    "# print(data)\n",
    "\n"
   ]
  }
 ],
 "metadata": {
  "kernelspec": {
   "display_name": ".venv",
   "language": "python",
   "name": "python3"
  },
  "language_info": {
   "codemirror_mode": {
    "name": "ipython",
    "version": 3
   },
   "file_extension": ".py",
   "mimetype": "text/x-python",
   "name": "python",
   "nbconvert_exporter": "python",
   "pygments_lexer": "ipython3",
   "version": "3.9.13"
  },
  "orig_nbformat": 4,
  "vscode": {
   "interpreter": {
    "hash": "d6a0e7ae3e69ca1df066a5ce30573abe40c4b83ebfce3069d599ce26e49ea068"
   }
  }
 },
 "nbformat": 4,
 "nbformat_minor": 2
}
