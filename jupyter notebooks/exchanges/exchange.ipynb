{
 "cells": [
  {
   "cell_type": "code",
   "execution_count": 2,
   "metadata": {},
   "outputs": [],
   "source": [
    "import pandas as pd\n",
    "import ccxt\n",
    "import os\n",
    "import json\n"
   ]
  },
  {
   "cell_type": "code",
   "execution_count": 3,
   "metadata": {},
   "outputs": [],
   "source": [
    "#get exchange api key and secret from env file\n",
    "API_KEY = os.environ.get('BYBIT_API')\n",
    "SECRET = os.environ.get('BYBIT_SECRET')\n"
   ]
  },
  {
   "cell_type": "code",
   "execution_count": 4,
   "metadata": {},
   "outputs": [],
   "source": [
    "# get exchange\n",
    "exchange = ccxt.bybit({\n",
    "    'apiKey': API_KEY,\n",
    "    'secret' : SECRET,\n",
    "    'enableRateLimit' : True,\n",
    "    'options' : {\n",
    "        'defaultType' : 'future',\n",
    "        'adjustForTimeDifference': True\n",
    "    },\n",
    "    'verbose': False,\n",
    "})\n"
   ]
  },
  {
   "cell_type": "code",
   "execution_count": 5,
   "metadata": {},
   "outputs": [
    {
     "name": "stdout",
     "output_type": "stream",
     "text": [
      "[[1674982800000, 0.000811, 0.000837, 0.000808, 0.000831, 140554040.0], [1674986400000, 0.000831, 0.000831, 0.000823, 0.000826, 15555730.0]]\n"
     ]
    }
   ],
   "source": [
    "\n",
    "\n",
    "# exchange.set_position_mode(hedged=True)\n",
    "\n",
    "data = exchange.fetchOHLCV(\"SPELL/USDT:USDT\", timeframe='1h', limit=2)\n",
    "\n",
    "# params = {\n",
    "#     'takeProfitPrice' : 0.00077\n",
    "# }\n",
    "\n",
    "# exchange.create_order(symbol=\"SPELL/USDT:USDT\",amount=100,type=\"Market\",side=\"sell\" ,params=params)\n",
    "\n",
    "print(data)\n",
    "\n"
   ]
  }
 ],
 "metadata": {
  "kernelspec": {
   "display_name": ".venv",
   "language": "python",
   "name": "python3"
  },
  "language_info": {
   "codemirror_mode": {
    "name": "ipython",
    "version": 3
   },
   "file_extension": ".py",
   "mimetype": "text/x-python",
   "name": "python",
   "nbconvert_exporter": "python",
   "pygments_lexer": "ipython3",
   "version": "3.9.13"
  },
  "orig_nbformat": 4,
  "vscode": {
   "interpreter": {
    "hash": "7d13f84f9bbe0584f73d0e09fc3d3fa2c95dbfdd4c237a9ac1f9dec934a19955"
   }
  }
 },
 "nbformat": 4,
 "nbformat_minor": 2
}
