{
 "cells": [
  {
   "cell_type": "code",
   "execution_count": 17,
   "metadata": {},
   "outputs": [
    {
     "name": "stdout",
     "output_type": "stream",
     "text": [
      "None\n"
     ]
    }
   ],
   "source": [
    "import ccxt\n",
    "import os\n",
    "\n",
    "print(os.environ.get('BYBIT_API'))\n"
   ]
  },
  {
   "cell_type": "code",
   "execution_count": 13,
   "metadata": {},
   "outputs": [
    {
     "name": "stdout",
     "output_type": "stream",
     "text": [
      "None\n"
     ]
    }
   ],
   "source": [
    "#get exchange api key and secret from env file\n",
    "\n",
    "\n"
   ]
  },
  {
   "cell_type": "code",
   "execution_count": 3,
   "metadata": {},
   "outputs": [],
   "source": [
    "# get exchange\n",
    "bybit = ccxt.bybit({\n",
    "    'enableRateLimit' : True,\n",
    "    'options' : {\n",
    "        'defaultType' : 'spot',\n",
    "        'adjustForTimeDifference': True\n",
    "    }\n",
    "})"
   ]
  },
  {
   "cell_type": "code",
   "execution_count": 5,
   "metadata": {},
   "outputs": [
    {
     "name": "stdout",
     "output_type": "stream",
     "text": [
      "[[1673439300000, 17425.88, 17425.89, 17424.73, 17424.73, 1.165343], [1673439360000, 17424.73, 17424.73, 17424.05, 17424.05, 1.242837], [1673439420000, 17424.05, 17424.05, 17423.0, 17423.0, 0.768807], [1673439480000, 17423.0, 17423.0, 17415.28, 17415.28, 8.936234], [1673439540000, 17415.28, 17415.28, 17412.7, 17413.78, 0.645271]]\n"
     ]
    }
   ],
   "source": [
    "getOhlcv = bybit.fetch_ohlcv(symbol='BTC/USDT',limit=5)\n",
    "print(getOhlcv)"
   ]
  }
 ],
 "metadata": {
  "kernelspec": {
   "display_name": ".venv",
   "language": "python",
   "name": "python3"
  },
  "language_info": {
   "codemirror_mode": {
    "name": "ipython",
    "version": 3
   },
   "file_extension": ".py",
   "mimetype": "text/x-python",
   "name": "python",
   "nbconvert_exporter": "python",
   "pygments_lexer": "ipython3",
   "version": "3.9.13"
  },
  "orig_nbformat": 4,
  "vscode": {
   "interpreter": {
    "hash": "d6a0e7ae3e69ca1df066a5ce30573abe40c4b83ebfce3069d599ce26e49ea068"
   }
  }
 },
 "nbformat": 4,
 "nbformat_minor": 2
}
