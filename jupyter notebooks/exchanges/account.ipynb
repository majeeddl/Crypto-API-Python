{
 "cells": [
  {
   "cell_type": "code",
   "execution_count": null,
   "metadata": {},
   "outputs": [],
   "source": [
    "# %store -r bybit\n",
    "# %store -r test\n",
    "\n",
    "from ccxt import Exchange\n",
    "%run ./exchange.ipynb\n",
    "\n",
    "\n",
    "exchange: Exchange = exchange\n"
   ]
  },
  {
   "cell_type": "code",
   "execution_count": null,
   "metadata": {},
   "outputs": [],
   "source": [
    "#get balance information\n",
    "print(json.dumps(exchange.fetch_balance(), sort_keys=True, indent=4))\n",
    "\n"
   ]
  }
 ],
 "metadata": {
  "kernelspec": {
   "display_name": ".venv",
   "language": "python",
   "name": "python3"
  },
  "language_info": {
   "codemirror_mode": {
    "name": "ipython",
    "version": 3
   },
   "file_extension": ".py",
   "mimetype": "text/x-python",
   "name": "python",
   "nbconvert_exporter": "python",
   "pygments_lexer": "ipython3",
   "version": "3.9.13"
  },
  "orig_nbformat": 4,
  "vscode": {
   "interpreter": {
    "hash": "7d13f84f9bbe0584f73d0e09fc3d3fa2c95dbfdd4c237a9ac1f9dec934a19955"
   }
  }
 },
 "nbformat": 4,
 "nbformat_minor": 2
}
