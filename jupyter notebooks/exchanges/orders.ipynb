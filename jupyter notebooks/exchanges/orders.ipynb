{
 "cells": [
  {
   "cell_type": "code",
   "execution_count": null,
   "metadata": {},
   "outputs": [],
   "source": [
    "from ccxt import Exchange\n",
    "%run ./exchange.ipynb\n",
    "\n",
    "\n",
    "exchange: Exchange = exchange\n",
    "\n",
    "print(exchange)\n"
   ]
  },
  {
   "cell_type": "code",
   "execution_count": null,
   "metadata": {},
   "outputs": [],
   "source": [
    "#create new order\n",
    "exchange.create_order(symbol=\"SPELLUSDT\",amount=100,type=\"Market\",side=\"short\" ,params={\n",
    "    # 'positionSide': 'BOTH'\n",
    "})\n"
   ]
  },
  {
   "cell_type": "code",
   "execution_count": null,
   "metadata": {},
   "outputs": [],
   "source": [
    "#reduce order or sell\n",
    "exchange.create_order(symbol=\"SPELL/USDT\",amount=100,type=\"Market\",side=\"sell\",params={\n",
    "    'reduce_only' : bool('true')\n",
    "})"
   ]
  }
 ],
 "metadata": {
  "kernelspec": {
   "display_name": ".venv",
   "language": "python",
   "name": "python3"
  },
  "language_info": {
   "codemirror_mode": {
    "name": "ipython",
    "version": 3
   },
   "file_extension": ".py",
   "mimetype": "text/x-python",
   "name": "python",
   "nbconvert_exporter": "python",
   "pygments_lexer": "ipython3",
   "version": "3.9.13"
  },
  "orig_nbformat": 4,
  "vscode": {
   "interpreter": {
    "hash": "7d13f84f9bbe0584f73d0e09fc3d3fa2c95dbfdd4c237a9ac1f9dec934a19955"
   }
  }
 },
 "nbformat": 4,
 "nbformat_minor": 2
}
