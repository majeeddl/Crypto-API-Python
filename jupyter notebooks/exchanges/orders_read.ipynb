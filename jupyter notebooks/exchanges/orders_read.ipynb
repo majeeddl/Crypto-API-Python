{
 "cells": [
  {
   "cell_type": "code",
   "execution_count": null,
   "metadata": {},
   "outputs": [],
   "source": [
    "from ccxt import Exchange\n",
    "from itables import show\n",
    "\n",
    "%run ./exchange.ipynb\n",
    "\n",
    "\n",
    "exchange: Exchange = exchange\n",
    "\n",
    "print(exchange)\n"
   ]
  },
  {
   "cell_type": "code",
   "execution_count": null,
   "metadata": {},
   "outputs": [],
   "source": [
    "#create new order\n",
    "orders = exchange.fetch_open_orders()\n",
    "\n",
    "df = pd.DataFrame(orders)[[ 'id', 'clientOrderId', 'timestamp', 'datetime',\n",
    "            'lastTradeTimestamp', 'symbol', 'type', 'timeInForce', 'postOnly',\n",
    "            'side', 'price', 'stopPrice', 'triggerPrice', 'amount', 'cost',\n",
    "            'average', 'filled', 'remaining', 'status', 'fee', 'trades', 'fees']]\n",
    "\n",
    "\n",
    "show(df)\n"
   ]
  },
  {
   "cell_type": "code",
   "execution_count": null,
   "metadata": {},
   "outputs": [],
   "source": []
  }
 ],
 "metadata": {
  "kernelspec": {
   "display_name": ".venv",
   "language": "python",
   "name": "python3"
  },
  "language_info": {
   "codemirror_mode": {
    "name": "ipython",
    "version": 3
   },
   "file_extension": ".py",
   "mimetype": "text/x-python",
   "name": "python",
   "nbconvert_exporter": "python",
   "pygments_lexer": "ipython3",
   "version": "3.9.13"
  },
  "orig_nbformat": 4,
  "vscode": {
   "interpreter": {
    "hash": "d6a0e7ae3e69ca1df066a5ce30573abe40c4b83ebfce3069d599ce26e49ea068"
   }
  }
 },
 "nbformat": 4,
 "nbformat_minor": 2
}
