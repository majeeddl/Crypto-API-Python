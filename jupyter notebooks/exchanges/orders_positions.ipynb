{
 "cells": [
  {
   "cell_type": "code",
   "execution_count": null,
   "metadata": {},
   "outputs": [],
   "source": [
    "from ccxt import Exchange\n",
    "from itables import show\n",
    "\n",
    "%run ./exchange.ipynb\n",
    "\n",
    "\n",
    "exchange: Exchange = exchange\n",
    "\n"
   ]
  },
  {
   "cell_type": "code",
   "execution_count": null,
   "metadata": {},
   "outputs": [],
   "source": [
    "#create new order\n",
    "positions = exchange.fetch_positions()\n",
    "\n",
    "df = pd.DataFrame(positions)[[ 'id', 'symbol', 'timestamp', 'datetime', 'initialMargin',\n",
    "'initialMarginPercentage', 'maintenanceMargin',\n",
    "'maintenanceMarginPercentage', 'entryPrice', 'notional', 'leverage',\n",
    "'unrealizedPnl', 'contracts', 'contractSize', 'marginRatio',\n",
    "'liquidationPrice', 'markPrice', 'collateral', 'marginMode', 'side',\n",
    "'percentage']]\n",
    "\n",
    "\n",
    "show(df)\n"
   ]
  },
  {
   "cell_type": "code",
   "execution_count": null,
   "metadata": {},
   "outputs": [],
   "source": []
  }
 ],
 "metadata": {
  "kernelspec": {
   "display_name": ".venv",
   "language": "python",
   "name": "python3"
  },
  "language_info": {
   "codemirror_mode": {
    "name": "ipython",
    "version": 3
   },
   "file_extension": ".py",
   "mimetype": "text/x-python",
   "name": "python",
   "nbconvert_exporter": "python",
   "pygments_lexer": "ipython3",
   "version": "3.9.13 (v3.9.13:6de2ca5339, May 17 2022, 11:23:25) \n[Clang 6.0 (clang-600.0.57)]"
  },
  "orig_nbformat": 4,
  "vscode": {
   "interpreter": {
    "hash": "7d13f84f9bbe0584f73d0e09fc3d3fa2c95dbfdd4c237a9ac1f9dec934a19955"
   }
  }
 },
 "nbformat": 4,
 "nbformat_minor": 2
}
